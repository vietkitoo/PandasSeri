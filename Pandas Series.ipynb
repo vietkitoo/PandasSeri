{
 "cells": [
  {
   "cell_type": "code",
   "execution_count": 2,
   "metadata": {
    "collapsed": true
   },
   "outputs": [],
   "source": [
    "import pandas as pd"
   ]
  },
  {
   "cell_type": "code",
   "execution_count": 3,
   "outputs": [],
   "source": [
    "ser1 = pd.Series([1,2,3,4],index =['usa','germany','ussr','japan'])"
   ],
   "metadata": {
    "collapsed": false
   }
  },
  {
   "cell_type": "code",
   "execution_count": 4,
   "outputs": [
    {
     "data": {
      "text/plain": "usa        1\ngermany    2\nussr       3\njapan      4\ndtype: int64"
     },
     "execution_count": 4,
     "metadata": {},
     "output_type": "execute_result"
    }
   ],
   "source": [
    "ser1"
   ],
   "metadata": {
    "collapsed": false
   }
  },
  {
   "cell_type": "code",
   "execution_count": 12,
   "outputs": [],
   "source": [
    "from numpy.matlib import randn\n",
    "\n",
    "df = pd.DataFrame(randn(5,4),index='A B C D E'.split(),columns='W X Y Z'.split())"
   ],
   "metadata": {
    "collapsed": false
   }
  },
  {
   "cell_type": "code",
   "execution_count": 11,
   "outputs": [
    {
     "data": {
      "text/plain": "          W         X         Y         Z\nA  0.199284  0.389753 -0.728759  0.063579\nB -0.000240  0.136578 -0.800751  0.915428\nC -1.294375 -0.585646 -1.030810  0.071989\nD  1.883725  0.608827  0.907756  0.635370\nE -2.592947 -0.064752  0.332451  0.200971",
      "text/html": "<div>\n<style scoped>\n    .dataframe tbody tr th:only-of-type {\n        vertical-align: middle;\n    }\n\n    .dataframe tbody tr th {\n        vertical-align: top;\n    }\n\n    .dataframe thead th {\n        text-align: right;\n    }\n</style>\n<table border=\"1\" class=\"dataframe\">\n  <thead>\n    <tr style=\"text-align: right;\">\n      <th></th>\n      <th>W</th>\n      <th>X</th>\n      <th>Y</th>\n      <th>Z</th>\n    </tr>\n  </thead>\n  <tbody>\n    <tr>\n      <th>A</th>\n      <td>0.199284</td>\n      <td>0.389753</td>\n      <td>-0.728759</td>\n      <td>0.063579</td>\n    </tr>\n    <tr>\n      <th>B</th>\n      <td>-0.000240</td>\n      <td>0.136578</td>\n      <td>-0.800751</td>\n      <td>0.915428</td>\n    </tr>\n    <tr>\n      <th>C</th>\n      <td>-1.294375</td>\n      <td>-0.585646</td>\n      <td>-1.030810</td>\n      <td>0.071989</td>\n    </tr>\n    <tr>\n      <th>D</th>\n      <td>1.883725</td>\n      <td>0.608827</td>\n      <td>0.907756</td>\n      <td>0.635370</td>\n    </tr>\n    <tr>\n      <th>E</th>\n      <td>-2.592947</td>\n      <td>-0.064752</td>\n      <td>0.332451</td>\n      <td>0.200971</td>\n    </tr>\n  </tbody>\n</table>\n</div>"
     },
     "execution_count": 11,
     "metadata": {},
     "output_type": "execute_result"
    }
   ],
   "source": [
    "df"
   ],
   "metadata": {
    "collapsed": false
   }
  },
  {
   "cell_type": "code",
   "execution_count": 13,
   "outputs": [
    {
     "data": {
      "text/plain": "A   -0.038121\nB    1.516506\nC    0.533175\nD    0.689642\nE    0.115188\nName: W, dtype: float64"
     },
     "execution_count": 13,
     "metadata": {},
     "output_type": "execute_result"
    }
   ],
   "source": [
    "df['W']"
   ],
   "metadata": {
    "collapsed": false
   }
  },
  {
   "cell_type": "code",
   "execution_count": 15,
   "outputs": [
    {
     "data": {
      "text/plain": "          W         Z\nA -0.038121  0.961280\nB  1.516506 -1.030168\nC  0.533175  0.179850\nD  0.689642  0.598545\nE  0.115188 -0.996784",
      "text/html": "<div>\n<style scoped>\n    .dataframe tbody tr th:only-of-type {\n        vertical-align: middle;\n    }\n\n    .dataframe tbody tr th {\n        vertical-align: top;\n    }\n\n    .dataframe thead th {\n        text-align: right;\n    }\n</style>\n<table border=\"1\" class=\"dataframe\">\n  <thead>\n    <tr style=\"text-align: right;\">\n      <th></th>\n      <th>W</th>\n      <th>Z</th>\n    </tr>\n  </thead>\n  <tbody>\n    <tr>\n      <th>A</th>\n      <td>-0.038121</td>\n      <td>0.961280</td>\n    </tr>\n    <tr>\n      <th>B</th>\n      <td>1.516506</td>\n      <td>-1.030168</td>\n    </tr>\n    <tr>\n      <th>C</th>\n      <td>0.533175</td>\n      <td>0.179850</td>\n    </tr>\n    <tr>\n      <th>D</th>\n      <td>0.689642</td>\n      <td>0.598545</td>\n    </tr>\n    <tr>\n      <th>E</th>\n      <td>0.115188</td>\n      <td>-0.996784</td>\n    </tr>\n  </tbody>\n</table>\n</div>"
     },
     "execution_count": 15,
     "metadata": {},
     "output_type": "execute_result"
    }
   ],
   "source": [
    "df[['W','Z']]"
   ],
   "metadata": {
    "collapsed": false
   }
  },
  {
   "cell_type": "code",
   "execution_count": 33,
   "outputs": [],
   "source": [
    "import numpy as np\n",
    "s = np.random.randint(1,10,size=(5,2))\n",
    "df1 = pd.DataFrame(s, index='A B C D E'.split(),columns='W X'.split())"
   ],
   "metadata": {
    "collapsed": false
   }
  },
  {
   "cell_type": "code",
   "execution_count": 34,
   "outputs": [
    {
     "data": {
      "text/plain": "   W  X\nA  2  9\nB  9  5\nC  9  1\nD  8  2\nE  7  1",
      "text/html": "<div>\n<style scoped>\n    .dataframe tbody tr th:only-of-type {\n        vertical-align: middle;\n    }\n\n    .dataframe tbody tr th {\n        vertical-align: top;\n    }\n\n    .dataframe thead th {\n        text-align: right;\n    }\n</style>\n<table border=\"1\" class=\"dataframe\">\n  <thead>\n    <tr style=\"text-align: right;\">\n      <th></th>\n      <th>W</th>\n      <th>X</th>\n    </tr>\n  </thead>\n  <tbody>\n    <tr>\n      <th>A</th>\n      <td>2</td>\n      <td>9</td>\n    </tr>\n    <tr>\n      <th>B</th>\n      <td>9</td>\n      <td>5</td>\n    </tr>\n    <tr>\n      <th>C</th>\n      <td>9</td>\n      <td>1</td>\n    </tr>\n    <tr>\n      <th>D</th>\n      <td>8</td>\n      <td>2</td>\n    </tr>\n    <tr>\n      <th>E</th>\n      <td>7</td>\n      <td>1</td>\n    </tr>\n  </tbody>\n</table>\n</div>"
     },
     "execution_count": 34,
     "metadata": {},
     "output_type": "execute_result"
    }
   ],
   "source": [
    "df1"
   ],
   "metadata": {
    "collapsed": false
   }
  },
  {
   "cell_type": "code",
   "execution_count": 35,
   "outputs": [
    {
     "data": {
      "text/plain": "A   -0.038121\nB    1.516506\nC    0.533175\nD    0.689642\nE    0.115188\nName: W, dtype: float64"
     },
     "execution_count": 35,
     "metadata": {},
     "output_type": "execute_result"
    }
   ],
   "source": [
    "df['W']"
   ],
   "metadata": {
    "collapsed": false
   }
  },
  {
   "cell_type": "code",
   "execution_count": 37,
   "outputs": [
    {
     "data": {
      "text/plain": "                  X         Y         Z\nW                                      \n-0.038121 -0.396930 -0.067453  0.961280\n 0.115188  0.407529  0.601910 -0.996784\n 0.533175 -0.107456 -0.638956  0.179850\n 0.689642 -0.491762 -1.497493  0.598545\n 1.516506 -0.254013 -1.341973 -1.030168",
      "text/html": "<div>\n<style scoped>\n    .dataframe tbody tr th:only-of-type {\n        vertical-align: middle;\n    }\n\n    .dataframe tbody tr th {\n        vertical-align: top;\n    }\n\n    .dataframe thead th {\n        text-align: right;\n    }\n</style>\n<table border=\"1\" class=\"dataframe\">\n  <thead>\n    <tr style=\"text-align: right;\">\n      <th></th>\n      <th>X</th>\n      <th>Y</th>\n      <th>Z</th>\n    </tr>\n    <tr>\n      <th>W</th>\n      <th></th>\n      <th></th>\n      <th></th>\n    </tr>\n  </thead>\n  <tbody>\n    <tr>\n      <th>-0.038121</th>\n      <td>-0.396930</td>\n      <td>-0.067453</td>\n      <td>0.961280</td>\n    </tr>\n    <tr>\n      <th>0.115188</th>\n      <td>0.407529</td>\n      <td>0.601910</td>\n      <td>-0.996784</td>\n    </tr>\n    <tr>\n      <th>0.533175</th>\n      <td>-0.107456</td>\n      <td>-0.638956</td>\n      <td>0.179850</td>\n    </tr>\n    <tr>\n      <th>0.689642</th>\n      <td>-0.491762</td>\n      <td>-1.497493</td>\n      <td>0.598545</td>\n    </tr>\n    <tr>\n      <th>1.516506</th>\n      <td>-0.254013</td>\n      <td>-1.341973</td>\n      <td>-1.030168</td>\n    </tr>\n  </tbody>\n</table>\n</div>"
     },
     "execution_count": 37,
     "metadata": {},
     "output_type": "execute_result"
    }
   ],
   "source": [
    "df.groupby(['W']).sum()"
   ],
   "metadata": {
    "collapsed": false
   }
  },
  {
   "cell_type": "code",
   "execution_count": 38,
   "outputs": [],
   "source": [
    "data2 = np.random.randint(11,30,size=(5,2))\n",
    "pf2 = pd.DataFrame(data2,'5 6 7 8 9'.split(),'W X'.split())"
   ],
   "metadata": {
    "collapsed": false
   }
  },
  {
   "cell_type": "code",
   "execution_count": 39,
   "outputs": [],
   "source": [
    "pf3 = pd.concat([df1, pf2])"
   ],
   "metadata": {
    "collapsed": false
   }
  },
  {
   "cell_type": "code",
   "execution_count": 40,
   "outputs": [
    {
     "data": {
      "text/plain": "    W   X\nA   2   9\nB   9   5\nC   9   1\nD   8   2\nE   7   1\n5  17  20\n6  12  26\n7  11  23\n8  20  28\n9  18  29",
      "text/html": "<div>\n<style scoped>\n    .dataframe tbody tr th:only-of-type {\n        vertical-align: middle;\n    }\n\n    .dataframe tbody tr th {\n        vertical-align: top;\n    }\n\n    .dataframe thead th {\n        text-align: right;\n    }\n</style>\n<table border=\"1\" class=\"dataframe\">\n  <thead>\n    <tr style=\"text-align: right;\">\n      <th></th>\n      <th>W</th>\n      <th>X</th>\n    </tr>\n  </thead>\n  <tbody>\n    <tr>\n      <th>A</th>\n      <td>2</td>\n      <td>9</td>\n    </tr>\n    <tr>\n      <th>B</th>\n      <td>9</td>\n      <td>5</td>\n    </tr>\n    <tr>\n      <th>C</th>\n      <td>9</td>\n      <td>1</td>\n    </tr>\n    <tr>\n      <th>D</th>\n      <td>8</td>\n      <td>2</td>\n    </tr>\n    <tr>\n      <th>E</th>\n      <td>7</td>\n      <td>1</td>\n    </tr>\n    <tr>\n      <th>5</th>\n      <td>17</td>\n      <td>20</td>\n    </tr>\n    <tr>\n      <th>6</th>\n      <td>12</td>\n      <td>26</td>\n    </tr>\n    <tr>\n      <th>7</th>\n      <td>11</td>\n      <td>23</td>\n    </tr>\n    <tr>\n      <th>8</th>\n      <td>20</td>\n      <td>28</td>\n    </tr>\n    <tr>\n      <th>9</th>\n      <td>18</td>\n      <td>29</td>\n    </tr>\n  </tbody>\n</table>\n</div>"
     },
     "execution_count": 40,
     "metadata": {},
     "output_type": "execute_result"
    }
   ],
   "source": [
    "pf3"
   ],
   "metadata": {
    "collapsed": false
   }
  },
  {
   "cell_type": "code",
   "execution_count": 42,
   "outputs": [],
   "source": [
    "data4 = np.random.randint(11,30,size=(5,2))\n",
    "pf4 = pd.DataFrame(data2,'5 6 7 8 9'.split(),'W Y'.split())"
   ],
   "metadata": {
    "collapsed": false
   }
  },
  {
   "cell_type": "code",
   "execution_count": 43,
   "outputs": [
    {
     "data": {
      "text/plain": "    W   Y\n5  19  29\n6  21  22\n7  19  13\n8  18  25\n9  27  25",
      "text/html": "<div>\n<style scoped>\n    .dataframe tbody tr th:only-of-type {\n        vertical-align: middle;\n    }\n\n    .dataframe tbody tr th {\n        vertical-align: top;\n    }\n\n    .dataframe thead th {\n        text-align: right;\n    }\n</style>\n<table border=\"1\" class=\"dataframe\">\n  <thead>\n    <tr style=\"text-align: right;\">\n      <th></th>\n      <th>W</th>\n      <th>Y</th>\n    </tr>\n  </thead>\n  <tbody>\n    <tr>\n      <th>5</th>\n      <td>19</td>\n      <td>29</td>\n    </tr>\n    <tr>\n      <th>6</th>\n      <td>21</td>\n      <td>22</td>\n    </tr>\n    <tr>\n      <th>7</th>\n      <td>19</td>\n      <td>13</td>\n    </tr>\n    <tr>\n      <th>8</th>\n      <td>18</td>\n      <td>25</td>\n    </tr>\n    <tr>\n      <th>9</th>\n      <td>27</td>\n      <td>25</td>\n    </tr>\n  </tbody>\n</table>\n</div>"
     },
     "execution_count": 43,
     "metadata": {},
     "output_type": "execute_result"
    }
   ],
   "source": [
    "pf4"
   ],
   "metadata": {
    "collapsed": false
   }
  },
  {
   "cell_type": "code",
   "execution_count": 46,
   "outputs": [],
   "source": [
    "pf5 = pd.merge(df1,pf4,how='inner',on='W')"
   ],
   "metadata": {
    "collapsed": false
   }
  },
  {
   "cell_type": "code",
   "execution_count": 47,
   "outputs": [
    {
     "data": {
      "text/plain": "Empty DataFrame\nColumns: [W, X, Y]\nIndex: []",
      "text/html": "<div>\n<style scoped>\n    .dataframe tbody tr th:only-of-type {\n        vertical-align: middle;\n    }\n\n    .dataframe tbody tr th {\n        vertical-align: top;\n    }\n\n    .dataframe thead th {\n        text-align: right;\n    }\n</style>\n<table border=\"1\" class=\"dataframe\">\n  <thead>\n    <tr style=\"text-align: right;\">\n      <th></th>\n      <th>W</th>\n      <th>X</th>\n      <th>Y</th>\n    </tr>\n  </thead>\n  <tbody>\n  </tbody>\n</table>\n</div>"
     },
     "execution_count": 47,
     "metadata": {},
     "output_type": "execute_result"
    }
   ],
   "source": [
    "pf5"
   ],
   "metadata": {
    "collapsed": false
   }
  },
  {
   "cell_type": "code",
   "execution_count": null,
   "outputs": [],
   "source": [],
   "metadata": {
    "collapsed": false
   }
  }
 ],
 "metadata": {
  "kernelspec": {
   "display_name": "Python 3",
   "language": "python",
   "name": "python3"
  },
  "language_info": {
   "codemirror_mode": {
    "name": "ipython",
    "version": 2
   },
   "file_extension": ".py",
   "mimetype": "text/x-python",
   "name": "python",
   "nbconvert_exporter": "python",
   "pygments_lexer": "ipython2",
   "version": "2.7.6"
  }
 },
 "nbformat": 4,
 "nbformat_minor": 0
}
